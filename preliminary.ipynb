{
 "cells": [
  {
   "cell_type": "code",
   "execution_count": 1,
   "id": "4ffeb414-9768-4bb2-9dec-6724ca633d4a",
   "metadata": {},
   "outputs": [
    {
     "name": "stderr",
     "output_type": "stream",
     "text": [
      "Warning message in system(\"timedatectl\", intern = TRUE):\n",
      "“running command 'timedatectl' had status 1”\n",
      "── \u001b[1mAttaching packages\u001b[22m ─────────────────────────────────────── tidyverse 1.3.2 ──\n",
      "\u001b[32m✔\u001b[39m \u001b[34mggplot2\u001b[39m 3.3.6     \u001b[32m✔\u001b[39m \u001b[34mpurrr  \u001b[39m 0.3.4\n",
      "\u001b[32m✔\u001b[39m \u001b[34mtibble \u001b[39m 3.1.8     \u001b[32m✔\u001b[39m \u001b[34mdplyr  \u001b[39m 1.0.9\n",
      "\u001b[32m✔\u001b[39m \u001b[34mtidyr  \u001b[39m 1.2.0     \u001b[32m✔\u001b[39m \u001b[34mstringr\u001b[39m 1.4.1\n",
      "\u001b[32m✔\u001b[39m \u001b[34mreadr  \u001b[39m 2.1.2     \u001b[32m✔\u001b[39m \u001b[34mforcats\u001b[39m 0.5.2\n",
      "── \u001b[1mConflicts\u001b[22m ────────────────────────────────────────── tidyverse_conflicts() ──\n",
      "\u001b[31m✖\u001b[39m \u001b[34mdplyr\u001b[39m::\u001b[32mfilter()\u001b[39m masks \u001b[34mstats\u001b[39m::filter()\n",
      "\u001b[31m✖\u001b[39m \u001b[34mdplyr\u001b[39m::\u001b[32mlag()\u001b[39m    masks \u001b[34mstats\u001b[39m::lag()\n"
     ]
    }
   ],
   "source": [
    "library(tidyverse)\n",
    "library(repr)\n",
    "library(digest)\n"
   ]
  },
  {
   "cell_type": "code",
   "execution_count": 30,
   "id": "60925ba6-e639-49f5-871d-ad3183002ca8",
   "metadata": {},
   "outputs": [
    {
     "data": {
      "text/html": [
       "<table class=\"dataframe\">\n",
       "<caption>A data.frame: 6 × 3</caption>\n",
       "<thead>\n",
       "\t<tr><th></th><th scope=col>albumin_level</th><th scope=col>classification</th><th scope=col>appetite</th></tr>\n",
       "\t<tr><th></th><th scope=col>&lt;dbl&gt;</th><th scope=col>&lt;chr&gt;</th><th scope=col>&lt;fct&gt;</th></tr>\n",
       "</thead>\n",
       "<tbody>\n",
       "\t<tr><th scope=row>1</th><td>1</td><td>ckd   </td><td>0</td></tr>\n",
       "\t<tr><th scope=row>2</th><td>0</td><td>ckd   </td><td>0</td></tr>\n",
       "\t<tr><th scope=row>3</th><td>4</td><td>ckd   </td><td>1</td></tr>\n",
       "\t<tr><th scope=row>4</th><td>3</td><td>ckd   </td><td>0</td></tr>\n",
       "\t<tr><th scope=row>5</th><td>0</td><td>ckd   </td><td>1</td></tr>\n",
       "\t<tr><th scope=row>6</th><td>0</td><td>notckd</td><td>0</td></tr>\n",
       "</tbody>\n",
       "</table>\n"
      ],
      "text/latex": [
       "A data.frame: 6 × 3\n",
       "\\begin{tabular}{r|lll}\n",
       "  & albumin\\_level & classification & appetite\\\\\n",
       "  & <dbl> & <chr> & <fct>\\\\\n",
       "\\hline\n",
       "\t1 & 1 & ckd    & 0\\\\\n",
       "\t2 & 0 & ckd    & 0\\\\\n",
       "\t3 & 4 & ckd    & 1\\\\\n",
       "\t4 & 3 & ckd    & 0\\\\\n",
       "\t5 & 0 & ckd    & 1\\\\\n",
       "\t6 & 0 & notckd & 0\\\\\n",
       "\\end{tabular}\n"
      ],
      "text/markdown": [
       "\n",
       "A data.frame: 6 × 3\n",
       "\n",
       "| <!--/--> | albumin_level &lt;dbl&gt; | classification &lt;chr&gt; | appetite &lt;fct&gt; |\n",
       "|---|---|---|---|\n",
       "| 1 | 1 | ckd    | 0 |\n",
       "| 2 | 0 | ckd    | 0 |\n",
       "| 3 | 4 | ckd    | 1 |\n",
       "| 4 | 3 | ckd    | 0 |\n",
       "| 5 | 0 | ckd    | 1 |\n",
       "| 6 | 0 | notckd | 0 |\n",
       "\n"
      ],
      "text/plain": [
       "  albumin_level classification appetite\n",
       "1 1             ckd            0       \n",
       "2 0             ckd            0       \n",
       "3 4             ckd            1       \n",
       "4 3             ckd            0       \n",
       "5 0             ckd            1       \n",
       "6 0             notckd         0       "
      ]
     },
     "metadata": {},
     "output_type": "display_data"
    }
   ],
   "source": [
    "#Question: do ckd patients have the same level of albumin as non-ckd patients?\n",
    "\n",
    "#Patients without ckd could have other diseases - maybe diseases which actually affects the liver\n",
    "#See if ckd has the same affect on albumin as other potential diseases\n",
    "#does not say if ckd patients stictly have ckd\n",
    "#An observation which pertains to this sample (maybe)\n",
    "\n",
    "\n",
    "#reading the data\n",
    "dataset <- read.csv(\"https://archive.ics.uci.edu/ml/machine-learning-databases/00624/ckd-dataset-v2.csv\", skip = 2) \n",
    "\n",
    "#wrangling data\n",
    "ckd_data <- dataset %>%\n",
    "    rename(albumin_level = X.3, classification = X.4, appetite = X.22)%>% #renaming columns\n",
    "    mutate(albumin_level= str_replace_all(albumin_level, c(\"< 0\" = \"0\", \"1 - 1\" = \"1\", \"2 - 2\" = \"2\", \"3 - 3\" = \"3\", \"≥ 4\" = \"4\")))%>% #turning strs into numbers    mutate(albumin_level = as.numeric(albumin_level))%>%\n",
    "    select(albumin_level, classification, appetite)%>% #selecting relevant variables\n",
    "    mutate(albumin_level = as.numeric(albumin_level))%>%#change chr into dbl for albumin_level\n",
    "    mutate(appetite = as.factor(appetite)) #appetite may be another interesting variable to look at - even if not included in the final results\n",
    "    \n",
    "\n",
    "head(ckd_data)\n",
    "\n",
    "\n",
    "\n",
    "\n",
    "\n"
   ]
  },
  {
   "cell_type": "code",
   "execution_count": 31,
   "id": "e63b9194-4ab6-4bf3-9763-176dc5952814",
   "metadata": {},
   "outputs": [
    {
     "data": {
      "text/html": [
       "<table class=\"dataframe\">\n",
       "<caption>A tibble: 2 × 2</caption>\n",
       "<thead>\n",
       "\t<tr><th scope=col>appetite</th><th scope=col>sum</th></tr>\n",
       "\t<tr><th scope=col>&lt;fct&gt;</th><th scope=col>&lt;dbl&gt;</th></tr>\n",
       "</thead>\n",
       "<tbody>\n",
       "\t<tr><td>0</td><td>125</td></tr>\n",
       "\t<tr><td>1</td><td> 71</td></tr>\n",
       "</tbody>\n",
       "</table>\n"
      ],
      "text/latex": [
       "A tibble: 2 × 2\n",
       "\\begin{tabular}{ll}\n",
       " appetite & sum\\\\\n",
       " <fct> & <dbl>\\\\\n",
       "\\hline\n",
       "\t 0 & 125\\\\\n",
       "\t 1 &  71\\\\\n",
       "\\end{tabular}\n"
      ],
      "text/markdown": [
       "\n",
       "A tibble: 2 × 2\n",
       "\n",
       "| appetite &lt;fct&gt; | sum &lt;dbl&gt; |\n",
       "|---|---|\n",
       "| 0 | 125 |\n",
       "| 1 |  71 |\n",
       "\n"
      ],
      "text/plain": [
       "  appetite sum\n",
       "1 0        125\n",
       "2 1         71"
      ]
     },
     "metadata": {},
     "output_type": "display_data"
    }
   ],
   "source": [
    "#for the sake of interest - look at the sum of albumin level in respect to appetite\n",
    "#1 for presence of appetite, 0 for no appetite\n",
    "appetite <- ckd_data %>%\n",
    "    select(appetite, albumin_level)%>%\n",
    "    group_by(appetite)%>%\n",
    "    summarize(sum = sum(albumin_level))\n",
    "\n",
    "head(appetite)\n"
   ]
  },
  {
   "cell_type": "code",
   "execution_count": null,
   "id": "393ee343-266b-4414-b42b-565e34a95f50",
   "metadata": {},
   "outputs": [],
   "source": [
    "#plotting the sample distribution for albumin\n",
    "albumin_plot <- ckd_data %>%\n",
    "    ggplot(aes(x = albumin_level))+\n",
    "    geom_histogram(bins = 5)+\n",
    "    xlab(\"Albumin Level\")+\n",
    "    ggtitle(\"Sample Distribution of Albumin Levels\")\n",
    "\n",
    "albumin_plot"
   ]
  },
  {
   "cell_type": "code",
   "execution_count": 24,
   "id": "f3416f22-1610-43e3-9ef2-c6278132b8c3",
   "metadata": {},
   "outputs": [
    {
     "data": {
      "text/html": [
       "<table class=\"dataframe\">\n",
       "<caption>A tibble: 2 × 2</caption>\n",
       "<thead>\n",
       "\t<tr><th scope=col>classification</th><th scope=col>mean</th></tr>\n",
       "\t<tr><th scope=col>&lt;chr&gt;</th><th scope=col>&lt;dbl&gt;</th></tr>\n",
       "</thead>\n",
       "<tbody>\n",
       "\t<tr><td>ckd   </td><td>1.53125</td></tr>\n",
       "\t<tr><td>notckd</td><td>0.00000</td></tr>\n",
       "</tbody>\n",
       "</table>\n"
      ],
      "text/latex": [
       "A tibble: 2 × 2\n",
       "\\begin{tabular}{ll}\n",
       " classification & mean\\\\\n",
       " <chr> & <dbl>\\\\\n",
       "\\hline\n",
       "\t ckd    & 1.53125\\\\\n",
       "\t notckd & 0.00000\\\\\n",
       "\\end{tabular}\n"
      ],
      "text/markdown": [
       "\n",
       "A tibble: 2 × 2\n",
       "\n",
       "| classification &lt;chr&gt; | mean &lt;dbl&gt; |\n",
       "|---|---|\n",
       "| ckd    | 1.53125 |\n",
       "| notckd | 0.00000 |\n",
       "\n"
      ],
      "text/plain": [
       "  classification mean   \n",
       "1 ckd            1.53125\n",
       "2 notckd         0.00000"
      ]
     },
     "metadata": {},
     "output_type": "display_data"
    }
   ],
   "source": [
    "#computing point estimates(mean)\n",
    "xbar <- ckd_data %>%\n",
    "    select(classification, albumin_level)%>%\n",
    "    group_by(classification)%>%\n",
    "    summarize(mean = mean(albumin_level))\n",
    "\n",
    "xbar"
   ]
  },
  {
   "cell_type": "code",
   "execution_count": 28,
   "id": "294d4cf1-6294-40c9-b0c3-9263691c4cac",
   "metadata": {},
   "outputs": [
    {
     "data": {
      "text/html": [
       "<table class=\"dataframe\">\n",
       "<caption>A tibble: 2 × 1</caption>\n",
       "<thead>\n",
       "\t<tr><th scope=col>diff</th></tr>\n",
       "\t<tr><th scope=col>&lt;dbl&gt;</th></tr>\n",
       "</thead>\n",
       "<tbody>\n",
       "\t<tr><td>1.53125</td></tr>\n",
       "\t<tr><td>1.53125</td></tr>\n",
       "</tbody>\n",
       "</table>\n"
      ],
      "text/latex": [
       "A tibble: 2 × 1\n",
       "\\begin{tabular}{l}\n",
       " diff\\\\\n",
       " <dbl>\\\\\n",
       "\\hline\n",
       "\t 1.53125\\\\\n",
       "\t 1.53125\\\\\n",
       "\\end{tabular}\n"
      ],
      "text/markdown": [
       "\n",
       "A tibble: 2 × 1\n",
       "\n",
       "| diff &lt;dbl&gt; |\n",
       "|---|\n",
       "| 1.53125 |\n",
       "| 1.53125 |\n",
       "\n"
      ],
      "text/plain": [
       "  diff   \n",
       "1 1.53125\n",
       "2 1.53125"
      ]
     },
     "metadata": {},
     "output_type": "display_data"
    }
   ],
   "source": [
    "\n",
    "\n",
    "#computing observed test statistic (difference in mean)\n",
    "diff <- xbar%>%\n",
    "    mutate(diff = mean[1] - mean[2])%>%\n",
    "    select(diff)\n",
    "\n",
    "diff\n"
   ]
  },
  {
   "cell_type": "code",
   "execution_count": null,
   "id": "4a0211ad-e32d-4aab-99b3-068bade76c07",
   "metadata": {},
   "outputs": [],
   "source": []
  }
 ],
 "metadata": {
  "kernelspec": {
   "display_name": "R",
   "language": "R",
   "name": "ir"
  },
  "language_info": {
   "codemirror_mode": "r",
   "file_extension": ".r",
   "mimetype": "text/x-r-source",
   "name": "R",
   "pygments_lexer": "r",
   "version": "4.1.3"
  }
 },
 "nbformat": 4,
 "nbformat_minor": 5
}
