{
 "cells": [
  {
   "cell_type": "code",
   "execution_count": 10,
   "id": "8d99ff1c-5a26-4562-bbd3-5d09caac1111",
   "metadata": {},
   "outputs": [
    {
     "name": "stderr",
     "output_type": "stream",
     "text": [
      "Installing package into ‘/home/jupyter/R/x86_64-pc-linux-gnu-library/4.1’\n",
      "(as ‘lib’ is unspecified)\n",
      "\n"
     ]
    }
   ],
   "source": [
    "#loading Packages\n",
    "library(tidyverse)\n",
    "library(repr)\n",
    "library(digest)\n",
    "install.packages(\"infer\")\n",
    "library(infer)\n",
    "set.seed(123)"
   ]
  },
  {
   "cell_type": "markdown",
   "id": "77b4937a-b669-4798-ab4f-d1f8f4ee5327",
   "metadata": {},
   "source": [
    "**PROJECT PROPOSAL**\n",
    "\n",
    "\n",
    "Group 14\n",
    "\n",
    "\n",
    "Contributors: `Hancheng Zhang`, `Daisy Liu`, `Aparna Varma`"
   ]
  },
  {
   "cell_type": "markdown",
   "id": "9dd89e74-c0a9-4815-bdd2-ce10e58ecd2e",
   "metadata": {},
   "source": [
    "**CHRONIC KIDNEY DISEASE AND ALBUMIN PRODUCTION**"
   ]
  },
  {
   "cell_type": "markdown",
   "id": "2b170e98-de93-4162-be16-42686bd7119c",
   "metadata": {},
   "source": [
    "### **INTRODUCTION**"
   ]
  },
  {
   "cell_type": "markdown",
   "id": "c96417da-cf93-47fd-9522-791abf223005",
   "metadata": {},
   "source": [
    "Chronic Kidney Disease (CKD) is known to be the cause of many health conditions, such as eating disorder，kidney failure and various heart diseases.(NIH, 2021). In our research, we would like to find out the impact that CKD has on the production of albumin compared to various other diseases, albumin is a protein produced by the liver which plays crucial roles in the immune system and keeping fluids within blood vessels. The albumin level in a healthy individual is about 3.4 to 5.4 g/dL(Dugdale, D. C. 2021), the maintainance of this level is needed for the proper transportation of nutrients in the human body. \n",
    "\n",
    "\n",
    "In this report, we will use a dataset which comes form UCI machine Learning Repository contributed by Dr.P.Soundarapandian.M.D.,D.M (Senior Consultant Nephrologist), Apollo Hospitals. This data contains about 300+ observations of CKD patients as well as patients with various other conditions. Out of the 24 documented measurements of health factors, we will be focusing on the investigation of albumin levels in CKD & non-CKD patients(some other health condition may take into consideration later). We would like to examine the albumin level of patients to figure out CKD's impact on liver function compared to other non-CKD patients, we will do so by comparing the mean albumin levels of CKD patients with patients without CKD. Aside from this, we will also conduct a brief analysis on the impact of appetite on albumin levels, we hope to establish more connection between the three examined variables by the end of our final report.\n",
    "\n",
    "Using this data set and our preliminary analysis, the question we want to ask is **“Can we reliably claim that patients with chronic kidney disease have higher levels of albumin compared to patients without chronic kidney disease?”**"
   ]
  },
  {
   "cell_type": "code",
   "execution_count": null,
   "id": "aa5e6496-fc19-4d5f-bc5f-a10c86180941",
   "metadata": {},
   "outputs": [
    {
     "data": {
      "text/html": [
       "<table class=\"dataframe\">\n",
       "<caption>A data.frame: 6 × 4</caption>\n",
       "<thead>\n",
       "\t<tr><th></th><th scope=col>albumin_level</th><th scope=col>classification</th><th scope=col>appetite</th><th scope=col>pe</th></tr>\n",
       "\t<tr><th></th><th scope=col>&lt;dbl&gt;</th><th scope=col>&lt;chr&gt;</th><th scope=col>&lt;fct&gt;</th><th scope=col>&lt;chr&gt;</th></tr>\n",
       "</thead>\n",
       "<tbody>\n",
       "\t<tr><th scope=row>1</th><td>2</td><td>ckd</td><td>good</td><td>no </td></tr>\n",
       "\t<tr><th scope=row>2</th><td>5</td><td>ckd</td><td>good</td><td>no </td></tr>\n",
       "\t<tr><th scope=row>3</th><td>3</td><td>ckd</td><td>poor</td><td>no </td></tr>\n",
       "\t<tr><th scope=row>4</th><td>5</td><td>ckd</td><td>poor</td><td>yes</td></tr>\n",
       "\t<tr><th scope=row>5</th><td>3</td><td>ckd</td><td>good</td><td>no </td></tr>\n",
       "\t<tr><th scope=row>6</th><td>4</td><td>ckd</td><td>good</td><td>yes</td></tr>\n",
       "</tbody>\n",
       "</table>\n"
      ],
      "text/latex": [
       "A data.frame: 6 × 4\n",
       "\\begin{tabular}{r|llll}\n",
       "  & albumin\\_level & classification & appetite & pe\\\\\n",
       "  & <dbl> & <chr> & <fct> & <chr>\\\\\n",
       "\\hline\n",
       "\t1 & 2 & ckd & good & no \\\\\n",
       "\t2 & 5 & ckd & good & no \\\\\n",
       "\t3 & 3 & ckd & poor & no \\\\\n",
       "\t4 & 5 & ckd & poor & yes\\\\\n",
       "\t5 & 3 & ckd & good & no \\\\\n",
       "\t6 & 4 & ckd & good & yes\\\\\n",
       "\\end{tabular}\n"
      ],
      "text/markdown": [
       "\n",
       "A data.frame: 6 × 4\n",
       "\n",
       "| <!--/--> | albumin_level &lt;dbl&gt; | classification &lt;chr&gt; | appetite &lt;fct&gt; | pe &lt;chr&gt; |\n",
       "|---|---|---|---|---|\n",
       "| 1 | 2 | ckd | good | no  |\n",
       "| 2 | 5 | ckd | good | no  |\n",
       "| 3 | 3 | ckd | poor | no  |\n",
       "| 4 | 5 | ckd | poor | yes |\n",
       "| 5 | 3 | ckd | good | no  |\n",
       "| 6 | 4 | ckd | good | yes |\n",
       "\n"
      ],
      "text/plain": [
       "  albumin_level classification appetite pe \n",
       "1 2             ckd            good     no \n",
       "2 5             ckd            good     no \n",
       "3 3             ckd            poor     no \n",
       "4 5             ckd            poor     yes\n",
       "5 3             ckd            good     no \n",
       "6 4             ckd            good     yes"
      ]
     },
     "metadata": {},
     "output_type": "display_data"
    }
   ],
   "source": [
    "#reading the data\n",
    "dataset <- read.csv(\"https://raw.githubusercontent.com/mish-salt/Group-14-stat-project/main/ckd.csv\") \n",
    "\n",
    "#wrangling data\n",
    "ckd_data <- dataset %>%\n",
    "    rename(albumin_level = al, classification = class, appetite = appet)%>% #renaming columns\n",
    "    select(albumin_level, classification, appetite, pe)%>% #selecting relevant variables\n",
    "    mutate(albumin_level = as.numeric(albumin_level))%>%#change chr into dbl for albumin_level\n",
    "    mutate(appetite = as.factor(appetite)) #appetite may be another interesting variable to look at - even if not included in the final results\n",
    "    \n",
    "\n",
    "head(ckd_data)"
   ]
  },
  {
   "cell_type": "markdown",
   "id": "cd175b0c-8c5f-4dc1-bafc-2b85459fb068",
   "metadata": {},
   "source": [
    "(Table 1)"
   ]
  },
  {
   "cell_type": "markdown",
   "id": "8979418b-b706-485f-84f0-ab1d5fec8b48",
   "metadata": {
    "tags": []
   },
   "source": [
    "### **Method and Results**"
   ]
  },
  {
   "cell_type": "markdown",
   "id": "ac3ab3b3-b490-42f0-9723-484658f915c1",
   "metadata": {},
   "source": [
    "This dataset contains a large amount of observations (about 300+). This means that it is possible for us to use both CLT & bootstrap method for generating confidence intervals and conducting hypothesis tests. Specifically, we will compare the results generated by both bootstrap and CLT hypothesis tests:"
   ]
  },
  {
   "cell_type": "code",
   "execution_count": 12,
   "id": "9933ab8c-d487-4d49-8190-e571060ec978",
   "metadata": {},
   "outputs": [
    {
     "data": {
      "text/html": [
       "<table class=\"dataframe\">\n",
       "<caption>A tibble: 2 × 2</caption>\n",
       "<thead>\n",
       "\t<tr><th scope=col>classification</th><th scope=col>count</th></tr>\n",
       "\t<tr><th scope=col>&lt;chr&gt;</th><th scope=col>&lt;int&gt;</th></tr>\n",
       "</thead>\n",
       "<tbody>\n",
       "\t<tr><td>ckd   </td><td>206</td></tr>\n",
       "\t<tr><td>notckd</td><td>143</td></tr>\n",
       "</tbody>\n",
       "</table>\n"
      ],
      "text/latex": [
       "A tibble: 2 × 2\n",
       "\\begin{tabular}{ll}\n",
       " classification & count\\\\\n",
       " <chr> & <int>\\\\\n",
       "\\hline\n",
       "\t ckd    & 206\\\\\n",
       "\t notckd & 143\\\\\n",
       "\\end{tabular}\n"
      ],
      "text/markdown": [
       "\n",
       "A tibble: 2 × 2\n",
       "\n",
       "| classification &lt;chr&gt; | count &lt;int&gt; |\n",
       "|---|---|\n",
       "| ckd    | 206 |\n",
       "| notckd | 143 |\n",
       "\n"
      ],
      "text/plain": [
       "  classification count\n",
       "1 ckd            206  \n",
       "2 notckd         143  "
      ]
     },
     "metadata": {},
     "output_type": "display_data"
    }
   ],
   "source": [
    "#calculating number of oberservations for CKD & non-CKD patients \n",
    "sample_sizes <- ckd_data %>%\n",
    "    select(classification)%>%\n",
    "    group_by(classification)%>%\n",
    "    summarize(count = n())\n",
    "\n",
    "sample_sizes"
   ]
  },
  {
   "cell_type": "markdown",
   "id": "dd37b5a3-4dd6-412d-8bdc-19b766f3d32d",
   "metadata": {},
   "source": [
    "(Table 2)"
   ]
  },
  {
   "cell_type": "markdown",
   "id": "bd1a4b88-1330-4a19-8460-5a4c3fed6912",
   "metadata": {},
   "source": [
    "The primary question that this report strives to answer is whether it is justified to claim that people with chronic kidney disease have higher albumin levels as against people without the disease. Instead of using actuall scales (g/dl), the dataset standarized the albumin level into 6 levels (from 1 to 6). Since in this case, there's no siginificant difference between a actual numeric variable(g/dl) and factor variable(level 1-6), so we will treat the albumin level as numeric variable.\n",
    "\n",
    "From the preliminary aspect of the proposal, we found out that upon plotting a sample distribution for albumin levels, the mean albumin levels of CKD patients are higher than patients without CKD thereby substantiating our initial question and laying valid grounds for further analysis. \n",
    "\n",
    "We also look at a patient’s appetite as a variable indicative of their albumin levels and see whether the respective sampling distribution corresponds to a patient’s classification of having CKD or not(see plot2 & table4). Based on what we oberseved from this sample, further analysis about relationship between appetite and albumin level could also be another approach. \n",
    "\n",
    "\n",
    "However, since this is only a sample of a larger population, we do not yet have the information needed to establish a specified range of confidence in our current conclusions.Thus we may generate a hypothesis test & a confidence interval to further support our research.\n",
    "\n",
    "Null hypothesis (H0): **μ1 (CKD)- μ2 (not CKD) = 0** \n",
    "\n",
    "Alternative hypothesis (H1): **μ1(CKD) - μ2(not CKD) > 0** \n",
    "\n",
    "Our significance level will be a = 0.05\n",
    "\n",
    "We will obtain a 95% confidence interval for the difference between the means of patients with CKD vs patients without CKD using the CLT and assess its accuracy by comparing it to the observed test statistic value\n",
    "\n",
    "Based on the preliminary results, we observed that the test statistic (difference of the two means) is greater than 0 (*see plot1 & table3*), we have the tentative expectation that the rejection of H0 being is probable at our indicated significance level. \n",
    "\n",
    "Such findings can help a patient or medical practitioners to accurately correlate albumin levels to illnesses and their symptoms, and take subsequent steps to identify and curtail them. \n",
    "\n",
    "If the null hypothesis is rejected, this would indicate that CKD patients do have higher albumin levels than patients with other diseases documented by the data. This could lead to more effective allocations of treatments for albumin levels.\n",
    "\n",
    "The findings of this project may lead to future studies on whether certain diseases, some of which are included in our data set, may lead to lower albumin levels which could potentially have some impact on liver function. It may also raise questions as to what are the key characteristics of the illnesses which leads to significantly lower albumin levels and how does CKD differ from these characteristics. "
   ]
  },
  {
   "cell_type": "code",
   "execution_count": 20,
   "id": "468504ed-f79f-4168-98fd-e2bf03348af1",
   "metadata": {},
   "outputs": [
    {
     "data": {
      "image/png": "[encoded data removed]",
      "text/plain": [
       "plot without title"
      ]
     },
     "metadata": {
      "image/png": {
       "height": 420,
       "width": 420
      }
     },
     "output_type": "display_data"
    }
   ],
   "source": [
    "#plotting the sample distribution for albumin with indications of ckd classification\n",
    "albumin_plot_ckd <- ckd_data %>%\n",
    "    ggplot(aes(x = albumin_level))+\n",
    "    geom_histogram(bins = 5, aes(fill = classification))+\n",
    "    xlab(\"Albumin Level\")+\n",
    "    ggtitle(\"Sample Distribution of Albumin Levels\")\n",
    "\n",
    "albumin_plot_ckd"
   ]
  },
  {
   "cell_type": "markdown",
   "id": "8cada0fd-bbc1-4b1c-b8af-c4431552304e",
   "metadata": {},
   "source": [
    "(plot1)"
   ]
  },
  {
   "cell_type": "code",
   "execution_count": 21,
   "id": "fa405804-1f0a-45cd-ac68-31d3ad9370cb",
   "metadata": {},
   "outputs": [
    {
     "data": {
      "text/html": [
       "<table class=\"dataframe\">\n",
       "<caption>A tibble: 2 × 2</caption>\n",
       "<thead>\n",
       "\t<tr><th scope=col>classification</th><th scope=col>mean</th></tr>\n",
       "\t<tr><th scope=col>&lt;chr&gt;</th><th scope=col>&lt;dbl&gt;</th></tr>\n",
       "</thead>\n",
       "<tbody>\n",
       "\t<tr><td>ckd   </td><td>2.723301</td></tr>\n",
       "\t<tr><td>notckd</td><td>1.000000</td></tr>\n",
       "</tbody>\n",
       "</table>\n"
      ],
      "text/latex": [
       "A tibble: 2 × 2\n",
       "\\begin{tabular}{ll}\n",
       " classification & mean\\\\\n",
       " <chr> & <dbl>\\\\\n",
       "\\hline\n",
       "\t ckd    & 2.723301\\\\\n",
       "\t notckd & 1.000000\\\\\n",
       "\\end{tabular}\n"
      ],
      "text/markdown": [
       "\n",
       "A tibble: 2 × 2\n",
       "\n",
       "| classification &lt;chr&gt; | mean &lt;dbl&gt; |\n",
       "|---|---|\n",
       "| ckd    | 2.723301 |\n",
       "| notckd | 1.000000 |\n",
       "\n"
      ],
      "text/plain": [
       "  classification mean    \n",
       "1 ckd            2.723301\n",
       "2 notckd         1.000000"
      ]
     },
     "metadata": {},
     "output_type": "display_data"
    }
   ],
   "source": [
    "#computing point estimates(mean)\n",
    "xbar <- ckd_data %>%\n",
    "    select(classification, albumin_level)%>%\n",
    "    group_by(classification)%>%\n",
    "    summarize(mean = mean(albumin_level))\n",
    "\n",
    "xbar"
   ]
  },
  {
   "cell_type": "markdown",
   "id": "037fe35b-7ddf-4f7b-b522-5f39dd3733b9",
   "metadata": {},
   "source": [
    "(Table 3)"
   ]
  },
  {
   "cell_type": "code",
   "execution_count": 22,
   "id": "22fc6c8e-52ee-4278-a638-fd6da751c408",
   "metadata": {},
   "outputs": [
    {
     "data": {
      "text/html": [
       "<table class=\"dataframe\">\n",
       "<caption>A tibble: 2 × 2</caption>\n",
       "<thead>\n",
       "\t<tr><th scope=col>appetite</th><th scope=col>mean</th></tr>\n",
       "\t<tr><th scope=col>&lt;fct&gt;</th><th scope=col>&lt;dbl&gt;</th></tr>\n",
       "</thead>\n",
       "<tbody>\n",
       "\t<tr><td>good</td><td>1.779359</td></tr>\n",
       "\t<tr><td>poor</td><td>3.000000</td></tr>\n",
       "</tbody>\n",
       "</table>\n"
      ],
      "text/latex": [
       "A tibble: 2 × 2\n",
       "\\begin{tabular}{ll}\n",
       " appetite & mean\\\\\n",
       " <fct> & <dbl>\\\\\n",
       "\\hline\n",
       "\t good & 1.779359\\\\\n",
       "\t poor & 3.000000\\\\\n",
       "\\end{tabular}\n"
      ],
      "text/markdown": [
       "\n",
       "A tibble: 2 × 2\n",
       "\n",
       "| appetite &lt;fct&gt; | mean &lt;dbl&gt; |\n",
       "|---|---|\n",
       "| good | 1.779359 |\n",
       "| poor | 3.000000 |\n",
       "\n"
      ],
      "text/plain": [
       "  appetite mean    \n",
       "1 good     1.779359\n",
       "2 poor     3.000000"
      ]
     },
     "metadata": {},
     "output_type": "display_data"
    }
   ],
   "source": [
    "#for the sake of interest - look at the sum of albumin level in respect to appetite\n",
    "\n",
    "appetite <- ckd_data %>%\n",
    "    select(appetite, albumin_level)%>%\n",
    "    group_by(appetite)%>%\n",
    "    summarize(mean = mean(albumin_level))\n",
    "\n",
    "head(appetite)\n"
   ]
  },
  {
   "cell_type": "markdown",
   "id": "48bbed5a-f3a4-49af-986b-b861239b22a5",
   "metadata": {},
   "source": [
    "(Table 4)"
   ]
  },
  {
   "cell_type": "code",
   "execution_count": 23,
   "id": "04ea4536-e205-4699-8ef0-7a1ec2a484fa",
   "metadata": {},
   "outputs": [
    {
     "data": {
      "image/png": "[encoded data removed]",
      "text/plain": [
       "plot without title"
      ]
     },
     "metadata": {
      "image/png": {
       "height": 420,
       "width": 420
      }
     },
     "output_type": "display_data"
    }
   ],
   "source": [
    "#plotting the sample distribution for albumin with indications of appetite\n",
    "albumin_plot_ckd <- ckd_data %>%\n",
    "    ggplot(aes(x = albumin_level))+\n",
    "    geom_histogram(bins = 5, aes(fill = appetite))+\n",
    "    xlab(\"Albumin Level\")+\n",
    "    ggtitle(\"Sample Distribution of Albumin Levels\")\n",
    "\n",
    "albumin_plot_ckd"
   ]
  },
  {
   "cell_type": "markdown",
   "id": "06459270-fe50-4ae3-99db-8162e230101e",
   "metadata": {},
   "source": [
    "(plot2)"
   ]
  },
  {
   "cell_type": "code",
   "execution_count": 24,
   "id": "8d84f419-e81d-4720-bb50-6a476998ddb0",
   "metadata": {},
   "outputs": [
    {
     "data": {
      "text/html": [
       "1.72330097087379"
      ],
      "text/latex": [
       "1.72330097087379"
      ],
      "text/markdown": [
       "1.72330097087379"
      ],
      "text/plain": [
       "[1] 1.723301"
      ]
     },
     "metadata": {},
     "output_type": "display_data"
    }
   ],
   "source": [
    "#computing observed test statistic (difference in mean)\n",
    "diff <- xbar%>%\n",
    "    mutate(diff = mean[1] - mean[2])%>%\n",
    "    select(diff)%>%\n",
    "    head(1)%>%\n",
    "    pull()\n",
    "\n",
    "diff"
   ]
  },
  {
   "cell_type": "markdown",
   "id": "2285f0f5-3120-453b-a3bf-5bc3d56d33d0",
   "metadata": {},
   "source": [
    "- The albumin levels in the dataset are documented as integers rather than continuous values, interpretations of these values should be seen as relative rather than precise\n",
    "\n",
    "- Aside from the classification of Chronic Kidney Disease (CKD), the dataset includes the indications for various diseases and conditions, including:\n",
    "\n",
    "1. Hypertension\n",
    "2. Diabetes Mellitus\n",
    "3. Coronary Artery Disease\n",
    "4. Pedal Edema\n",
    "5. Anemia\n",
    "\n",
    "these diseases and conditions may also affect the production of albumin \n",
    "\n",
    "- From the test statistic and the generated plots it is seen that the mean albumin level for CKD patients in the sample is shown to be lower than the healthy level of 3.4 - 5.4 g/dL, however it is still higher compared to patients with no CKD. The patients without CKD may have the aformentioned conditions which may also affect albumin levels.\n",
    "\n",
    "- As of right now the comparison of albumin levels is being made for patients with CKD and patients without CKD but may have other conditions, the preliminary results tentatively demonstrates that CKD decreases albumin levels, but not as much compared to other conditions included in the dataset.\n"
   ]
  },
  {
   "cell_type": "markdown",
   "id": "c3f7e84e-e509-40d8-9148-6cbb0213050b",
   "metadata": {},
   "source": [
    "#### **Bootstrap approach**"
   ]
  },
  {
   "cell_type": "markdown",
   "id": "8babf8ad-f0a8-4345-8fb9-2f501d592382",
   "metadata": {},
   "source": [
    "In this section, we will use bootstrap sampling to generate the hypothesis test to compare the difference in mean between patients with/without CKD."
   ]
  },
  {
   "cell_type": "markdown",
   "id": "7ef72fbe-7dcb-472c-a55d-25d00a1f4f39",
   "metadata": {},
   "source": [
    "# use bootstrap method to simulate 1000 sample mean differences between two groups\n",
    "set.seed(123)\n",
    "null_model_ckd <-\n",
    "    ckd_data %>%\n",
    "    specify(formula = albumin_level ~ classification) %>%\n",
    "    hypothesize(null = \"independence\") %>%\n",
    "    generate(reps = 1000, type = \"permute\") %>%\n",
    "    calculate(stat = \"diff in means\", order = c(\"ckd\", \"notckd\"))\n",
    "\n",
    "head(null_model_ckd)"
   ]
  },
  {
   "cell_type": "code",
   "execution_count": null,
   "id": "32de8ce4-fdee-4f25-9123-23cae9c10e79",
   "metadata": {},
   "outputs": [],
   "source": [
    "(Table 5)"
   ]
  },
  {
   "cell_type": "code",
   "execution_count": 26,
   "id": "bfc4e741-8ef9-469c-8e98-234bce89f37d",
   "metadata": {},
   "outputs": [
    {
     "name": "stderr",
     "output_type": "stream",
     "text": [
      "Warning message in min(diff(unique_loc)):\n",
      "“no non-missing arguments to min; returning Inf”\n"
     ]
    },
    {
     "data": {
      "image/png": "[encoded data removed]",
      "text/plain": [
       "plot without title"
      ]
     },
     "metadata": {
      "image/png": {
       "height": 420,
       "width": 420
      }
     },
     "output_type": "display_data"
    }
   ],
   "source": [
    "ckd_result_plot <- \n",
    "    null_model_ckd %>%\n",
    "    visualize() + \n",
    "    shade_p_value(obs_stat = diff, direction = \"right\")+\n",
    "    xlab(\"difference in means\")\n",
    "\n",
    "ckd_result_plot"
   ]
  },
  {
   "cell_type": "markdown",
   "id": "6c98316a-116b-4188-91ea-3cfe0b590a5d",
   "metadata": {},
   "source": [
    "(plot3)"
   ]
  },
  {
   "cell_type": "code",
   "execution_count": 27,
   "id": "f24fac88-be23-4eb7-8a1b-7e79e18b52d0",
   "metadata": {},
   "outputs": [
    {
     "name": "stderr",
     "output_type": "stream",
     "text": [
      "Warning message:\n",
      "“Please be cautious in reporting a p-value of 0. This result is an approximation based on the number of `reps` chosen in the `generate()` step. See `?get_p_value()` for more information.”\n"
     ]
    },
    {
     "data": {
      "text/html": [
       "<table class=\"dataframe\">\n",
       "<caption>A tibble: 1 × 1</caption>\n",
       "<thead>\n",
       "\t<tr><th scope=col>p_value</th></tr>\n",
       "\t<tr><th scope=col>&lt;dbl&gt;</th></tr>\n",
       "</thead>\n",
       "<tbody>\n",
       "\t<tr><td>0</td></tr>\n",
       "</tbody>\n",
       "</table>\n"
      ],
      "text/latex": [
       "A tibble: 1 × 1\n",
       "\\begin{tabular}{l}\n",
       " p\\_value\\\\\n",
       " <dbl>\\\\\n",
       "\\hline\n",
       "\t 0\\\\\n",
       "\\end{tabular}\n"
      ],
      "text/markdown": [
       "\n",
       "A tibble: 1 × 1\n",
       "\n",
       "| p_value &lt;dbl&gt; |\n",
       "|---|\n",
       "| 0 |\n",
       "\n"
      ],
      "text/plain": [
       "  p_value\n",
       "1 0      "
      ]
     },
     "metadata": {},
     "output_type": "display_data"
    }
   ],
   "source": [
    "#get the p value\n",
    "p_value <-p_value_infer <- \n",
    "    null_model_ckd %>% \n",
    "    get_p_value(obs_stat = diff, direction = \"right\")\n",
    "\n",
    "p_value"
   ]
  },
  {
   "cell_type": "markdown",
   "id": "659fa20e-85bc-4d3d-9472-9153c17465d4",
   "metadata": {},
   "source": [
    "(Table 6)"
   ]
  },
  {
   "cell_type": "markdown",
   "id": "65c383b2-0cfb-4202-afda-7a31691710b6",
   "metadata": {},
   "source": [
    "##### **Explaination of the bootstrap approach hypothesis test**"
   ]
  },
  {
   "cell_type": "markdown",
   "id": "4bd28e28-7343-4b04-aafa-7c3d63bb57cf",
   "metadata": {},
   "source": [
    "From the bootstrap approach, we get a p-value equall to 0 (*table6*) under the condition that we made 1000 bootstrap samples. So we the actual P-value should be <= 0.001. Since our siginificance level = 0.05, p <= 0.001 <= 0.05, we should reject the null hypothesis. In this case, our conclusion is to REJECT H0. We can also take look at the CLT approach."
   ]
  },
  {
   "cell_type": "markdown",
   "id": "5f38c3b8-f0c5-4e31-a697-7a97e53797e1",
   "metadata": {},
   "source": [
    "#### **CLT approach**"
   ]
  },
  {
   "cell_type": "code",
   "execution_count": 39,
   "id": "9d4a6c9e-317a-473a-a703-d0132d9f071c",
   "metadata": {},
   "outputs": [
    {
     "data": {
      "text/html": [
       "<table class=\"dataframe\">\n",
       "<caption>A tibble: 2 × 2</caption>\n",
       "<thead>\n",
       "\t<tr><th scope=col>classification</th><th scope=col>sample_std_error</th></tr>\n",
       "\t<tr><th scope=col>&lt;chr&gt;</th><th scope=col>&lt;dbl&gt;</th></tr>\n",
       "</thead>\n",
       "<tbody>\n",
       "\t<tr><td>ckd   </td><td>0.09575753</td></tr>\n",
       "\t<tr><td>notckd</td><td>0.00000000</td></tr>\n",
       "</tbody>\n",
       "</table>\n"
      ],
      "text/latex": [
       "A tibble: 2 × 2\n",
       "\\begin{tabular}{ll}\n",
       " classification & sample\\_std\\_error\\\\\n",
       " <chr> & <dbl>\\\\\n",
       "\\hline\n",
       "\t ckd    & 0.09575753\\\\\n",
       "\t notckd & 0.00000000\\\\\n",
       "\\end{tabular}\n"
      ],
      "text/markdown": [
       "\n",
       "A tibble: 2 × 2\n",
       "\n",
       "| classification &lt;chr&gt; | sample_std_error &lt;dbl&gt; |\n",
       "|---|---|\n",
       "| ckd    | 0.09575753 |\n",
       "| notckd | 0.00000000 |\n",
       "\n"
      ],
      "text/plain": [
       "  classification sample_std_error\n",
       "1 ckd            0.09575753      \n",
       "2 notckd         0.00000000      "
      ]
     },
     "metadata": {},
     "output_type": "display_data"
    }
   ],
   "source": [
    "#get the standard deviation of ckd/notckd groups\n",
    "ckd_data_summary <- \n",
    "    ckd_data %>% \n",
    "    group_by(classification) %>% \n",
    "    summarise(sample_std_error = sd(albumin_level)/sqrt(n()))\n",
    "\n",
    "ckd_data_summary"
   ]
  },
  {
   "cell_type": "markdown",
   "id": "c26c2be4-403d-4868-a736-f4915e958187",
   "metadata": {},
   "source": [
    "(Table 7)"
   ]
  },
  {
   "cell_type": "code",
   "execution_count": 49,
   "id": "39de76ec-e40c-4228-904c-b23738974140",
   "metadata": {},
   "outputs": [
    {
     "data": {
      "text/html": [
       "0"
      ],
      "text/latex": [
       "0"
      ],
      "text/markdown": [
       "0"
      ],
      "text/plain": [
       "[1] 0"
      ]
     },
     "metadata": {},
     "output_type": "display_data"
    }
   ],
   "source": [
    "#generating relevant parameters for calculating SE\n",
    "ckd_n <- sample_sizes$count[1]\n",
    "ckd_var <- ckd_data_summary$sample_std_error[1]^2\n",
    "\n",
    "notckd_n <- sample_sizes$count[2]\n",
    "notckd_var <- ckd_data_summary$sample_std_error[2]^2\n",
    "\n",
    "#calculating SE:\n",
    "se <- sqrt((ckd_var/ckd_n) + (notckd_var/notckd_n))\n",
    "\n",
    "\n",
    "\n",
    "#because the sample size is large, it is safe to use the z-distribution and get a similar result\n",
    "#calculating the z-value\n",
    "#diff = the generated test statistic (difference in mean)\n",
    "z <- (diff - 0) / se\n",
    "\n",
    "#get p value\n",
    "p_value <- pnorm(z, lower.tail = FALSE)\n",
    "p_value"
   ]
  },
  {
   "cell_type": "markdown",
   "id": "a1f3ee97-35c0-4a0d-9c83-d140e6474a9b",
   "metadata": {},
   "source": [
    "**CONCLUSION**\n",
    "\n",
    "The results from both the bootstrap hypothesis test and the CLT hypothesis test shows that the p-value is 0 - therefore there is substantial evidence for rejecting the null hypothesis in favor of the alternative hypothesis - patients with CKD are shown to have higher albumin levels than patients with other potential diseases that are not CKD."
   ]
  },
  {
   "cell_type": "markdown",
   "id": "ef428763-02d7-422b-ae9a-a217397ba800",
   "metadata": {},
   "source": [
    "**CONFIDENCE INTERVAL**"
   ]
  },
  {
   "cell_type": "code",
   "execution_count": 67,
   "id": "7dd0f49a-5141-48cf-bd2a-736017bcaebe",
   "metadata": {},
   "outputs": [
    {
     "data": {
      "text/html": [
       "<table class=\"dataframe\">\n",
       "<caption>A tibble: 1 × 2</caption>\n",
       "<thead>\n",
       "\t<tr><th scope=col>lower_ci</th><th scope=col>upper_ci</th></tr>\n",
       "\t<tr><th scope=col>&lt;dbl&gt;</th><th scope=col>&lt;dbl&gt;</th></tr>\n",
       "</thead>\n",
       "<tbody>\n",
       "\t<tr><td>1.531123</td><td>1.915479</td></tr>\n",
       "</tbody>\n",
       "</table>\n"
      ],
      "text/latex": [
       "A tibble: 1 × 2\n",
       "\\begin{tabular}{ll}\n",
       " lower\\_ci & upper\\_ci\\\\\n",
       " <dbl> & <dbl>\\\\\n",
       "\\hline\n",
       "\t 1.531123 & 1.915479\\\\\n",
       "\\end{tabular}\n"
      ],
      "text/markdown": [
       "\n",
       "A tibble: 1 × 2\n",
       "\n",
       "| lower_ci &lt;dbl&gt; | upper_ci &lt;dbl&gt; |\n",
       "|---|---|\n",
       "| 1.531123 | 1.915479 |\n",
       "\n"
      ],
      "text/plain": [
       "  lower_ci upper_ci\n",
       "1 1.531123 1.915479"
      ]
     },
     "metadata": {},
     "output_type": "display_data"
    },
    {
     "data": {
      "text/html": [
       "<table class=\"dataframe\">\n",
       "<caption>A tibble: 1 × 2</caption>\n",
       "<thead>\n",
       "\t<tr><th scope=col>lower_ci</th><th scope=col>upper_ci</th></tr>\n",
       "\t<tr><th scope=col>&lt;dbl&gt;</th><th scope=col>&lt;dbl&gt;</th></tr>\n",
       "</thead>\n",
       "<tbody>\n",
       "\t<tr><td>1.53562</td><td>1.910982</td></tr>\n",
       "</tbody>\n",
       "</table>\n"
      ],
      "text/latex": [
       "A tibble: 1 × 2\n",
       "\\begin{tabular}{ll}\n",
       " lower\\_ci & upper\\_ci\\\\\n",
       " <dbl> & <dbl>\\\\\n",
       "\\hline\n",
       "\t 1.53562 & 1.910982\\\\\n",
       "\\end{tabular}\n"
      ],
      "text/markdown": [
       "\n",
       "A tibble: 1 × 2\n",
       "\n",
       "| lower_ci &lt;dbl&gt; | upper_ci &lt;dbl&gt; |\n",
       "|---|---|\n",
       "| 1.53562 | 1.910982 |\n",
       "\n"
      ],
      "text/plain": [
       "  lower_ci upper_ci\n",
       "1 1.53562  1.910982"
      ]
     },
     "metadata": {},
     "output_type": "display_data"
    }
   ],
   "source": [
    "#calculate the 95% confidence interval - clt method\n",
    "ckd_clt_ci <- \n",
    "    tibble(lower_ci = (ckd_mean - notckd_mean + qnorm(0.025) * sqrt(notckd_var + ckd_var)),\n",
    "           upper_ci = (ckd_mean - notckd_mean - qnorm(0.025) * sqrt(notckd_var + ckd_var)))\n",
    "\n",
    "\n",
    "#calculate the 95% confidence interval - bootstrap method\n",
    "#Generate 1000 bootstrap sample point estimates and calculating ci\n",
    "bootstrap <- ckd_data %>%\n",
    "    specify(albumin_level ~ classification)%>%\n",
    "    generate(type = \"bootstrap\", reps = 1000)%>%\n",
    "    calculate(stat = \"diff in means\", order = c(\"ckd\", \"notckd\"))%>%\n",
    "    get_ci(type = \"percentile\", level = 0.95)\n",
    "\n",
    "\n",
    "head(bootstrap)\n",
    "head(ckd_clt_ci)"
   ]
  },
  {
   "cell_type": "markdown",
   "id": "a24b48f4-1f52-45a9-95cb-924eda27e59a",
   "metadata": {},
   "source": [
    "(Table 8 & 9)"
   ]
  },
  {
   "cell_type": "markdown",
   "id": "6405b924-b009-4606-bd6f-a0a79f37281d",
   "metadata": {},
   "source": [
    "Comparing the CI results, it is apparent that there exists a slight difference between the bootstrap CI and the CLT CI, however\n",
    "the values are pretty similar overall. Because of the large sample size, the CLT method is capable of generating a sampling \n",
    "distribution which approaches the normal distribution, thus the outcomes from the CLT and bootstrap method for both CI construction and\n",
    "hypothesis tests yield similar values. Either way, the 95% CI yields that there is only a 5% expected chance that this particular CI is one \n",
    "out of many potential CIs which do not end up capturing the true population parameter, even so, the lower bound of the CI is relatively higher\n",
    "than 0. This implies that we are rather confident that this CI captures the true parameter and that the true population parameter yields that \n",
    "patients with CKD has a higher albumin level than patients without CKD but have other potential diseases described in the dataset.\n"
   ]
  },
  {
   "cell_type": "markdown",
   "id": "97136533-39a3-44de-bc3d-156c09309192",
   "metadata": {},
   "source": [
    "### **Discussion**"
   ]
  },
  {
   "cell_type": "markdown",
   "id": "bc9843f0-ad5a-408d-a1ca-d3da20215e3e",
   "metadata": {},
   "source": [
    "**REFERENCES**"
   ]
  },
  {
   "cell_type": "markdown",
   "id": "640bf3ff-d683-43fd-a947-83947065ef54",
   "metadata": {},
   "source": [
    "NIH. (n.d.). *Chronic kidney disease (CKD)*. National Institute of Diabetes and Digestive and Kidney Diseases. Retrieved November 5, 2022, from https://www.niddk.nih.gov/health-information/kidney-disease/chronic-kidney-disease-ckd#:~:text=Chronic%20kidney "
   ]
  },
  {
   "cell_type": "markdown",
   "id": "255a5619-83b3-43ee-b17f-8399d09db421",
   "metadata": {},
   "source": [
    "Dugdale, D. C. (n.d.). *Albumin - blood (serum) test*. Mount Sinai Health System. Retrieved November 5, 2022, from https://www.mountsinai.org/health-library/tests/albumin-blood-serum-test#:~:text=Normal%20Results,of%20your%20specific%20test%20results. "
   ]
  },
  {
   "cell_type": "markdown",
   "id": "fe725e73-863b-4c97-aca2-8c8b7ef4fc1e",
   "metadata": {},
   "source": [
    "Dua, D. and Graff, C. (2019). UCI Machine Learning Repository [http://archive.ics.uci.edu/ml]. Irvine, CA: University of California, School of Information and Computer Science."
   ]
  },
  {
   "cell_type": "markdown",
   "id": "0a184ea9-d807-41f9-9653-f02df968e13c",
   "metadata": {},
   "source": [
    "Soundarapandian, D. P., &amp; Rubini, L. J. (n.d.). Retrieved November 5, 2022, from https://archive.ics.uci.edu/ml/datasets/chronic_kidney_disease. "
   ]
  }
 ],
 "metadata": {
  "kernelspec": {
   "display_name": "R",
   "language": "R",
   "name": "ir"
  },
  "language_info": {
   "codemirror_mode": "r",
   "file_extension": ".r",
   "mimetype": "text/x-r-source",
   "name": "R",
   "pygments_lexer": "r",
   "version": "4.1.3"
  }
 },
 "nbformat": 4,
 "nbformat_minor": 5
}
