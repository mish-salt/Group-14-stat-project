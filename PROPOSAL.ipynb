{
 "cells": [
  {
   "cell_type": "markdown",
   "id": "77b4937a-b669-4798-ab4f-d1f8f4ee5327",
   "metadata": {},
   "source": [
    "**PROJECT PROPOSAL**"
   ]
  },
  {
   "cell_type": "markdown",
   "id": "9dd89e74-c0a9-4815-bdd2-ce10e58ecd2e",
   "metadata": {},
   "source": [
    "**TITLE**"
   ]
  },
  {
   "cell_type": "markdown",
   "id": "2b170e98-de93-4162-be16-42686bd7119c",
   "metadata": {},
   "source": [
    "**INTRODUCTION**"
   ]
  },
  {
   "cell_type": "markdown",
   "id": "8979418b-b706-485f-84f0-ab1d5fec8b48",
   "metadata": {},
   "source": [
    "**PRELIMINARY RESULTS**"
   ]
  },
  {
   "cell_type": "markdown",
   "id": "f37d0501-df04-4e70-8c0b-0fb80d6e0f62",
   "metadata": {},
   "source": [
    "**METHOD:PLAN**"
   ]
  },
  {
   "cell_type": "markdown",
   "id": "bc9843f0-ad5a-408d-a1ca-d3da20215e3e",
   "metadata": {},
   "source": [
    "**REFERENCES**"
   ]
  },
  {
   "cell_type": "markdown",
   "id": "fe725e73-863b-4c97-aca2-8c8b7ef4fc1e",
   "metadata": {},
   "source": [
    "ae"
   ]
  },
  {
   "cell_type": "markdown",
   "id": "0a184ea9-d807-41f9-9653-f02df968e13c",
   "metadata": {},
   "source": []
  }
 ],
 "metadata": {
  "kernelspec": {
   "display_name": "R",
   "language": "R",
   "name": "ir"
  },
  "language_info": {
   "codemirror_mode": "r",
   "file_extension": ".r",
   "mimetype": "text/x-r-source",
   "name": "R",
   "pygments_lexer": "r",
   "version": "4.1.3"
  }
 },
 "nbformat": 4,
 "nbformat_minor": 5
}
