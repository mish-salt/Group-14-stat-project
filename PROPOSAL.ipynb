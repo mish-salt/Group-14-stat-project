{
 "cells": [
  {
   "cell_type": "markdown",
   "id": "77b4937a-b669-4798-ab4f-d1f8f4ee5327",
   "metadata": {},
   "source": [
    "**PROJECT PROPOSAL**"
   ]
  },
  {
   "cell_type": "markdown",
   "id": "9dd89e74-c0a9-4815-bdd2-ce10e58ecd2e",
   "metadata": {},
   "source": [
    "**TITLE**"
   ]
  },
  {
   "cell_type": "markdown",
   "id": "2b170e98-de93-4162-be16-42686bd7119c",
   "metadata": {},
   "source": [
    "**INTRODUCTION**"
   ]
  },
  {
   "cell_type": "markdown",
   "id": "c96417da-cf93-47fd-9522-791abf223005",
   "metadata": {},
   "source": [
    "Chronic Kidney disease has arose a lot of attention in recent years since more research indicate that Chronic kidney disease causes more threats to human health than we used to expect. It is a significant risk factor for a bunch of eating-related diseases, including eating disorder，vomiting. And It may also cause a lot of fatal disease like heart diseast, kidney failure etc. In our research, We want to know if does CDK patient are more vulnerable than people who do not have CDK in the asepect of albumin level, since albumin is essensial for regulate the oncotic pressure, immune system, coagulation and anticoagulant. In this report, we will use a patient health condition dataset as our research base and programming language R as a tool for our analysis.\n",
    "\n",
    "Our dataset comes form UCI machine Learning Repositiry contributed by Dr.P.Soundarapandian.M.D.,D.M (Senior Consultant Nephrologist), Apollo Hospitals. This data contains 400 observations of patients with/without CDK. They monitored 24 different health feature. We are focus on specificly on albumin level(some other health condition may take into consideration later).  A healthy normal person has a average of 3.4 to 5.4 albumin level. Patients with CDK are likely to have lower albumin level due to kidney malfunction.\n",
    "\n",
    "Using this data set and our preliminary analysis, the question we want to ask is **“Can we reliably claim that people with chronic kidney disease have lower level of albumin as people without chronic kidney disease?”**"
   ]
  },
  {
   "cell_type": "markdown",
   "id": "8979418b-b706-485f-84f0-ab1d5fec8b48",
   "metadata": {},
   "source": [
    "**PRELIMINARY RESULTS**"
   ]
  },
  {
   "cell_type": "code",
   "execution_count": 9,
   "id": "afda4001-d637-4919-bb80-bc644ac00394",
   "metadata": {},
   "outputs": [],
   "source": [
    "library(tidyverse)\n",
    "library(repr)\n",
    "library(digest)"
   ]
  },
  {
   "cell_type": "code",
   "execution_count": 10,
   "id": "409e1ef4-3a52-4486-80b4-ff219be9b342",
   "metadata": {},
   "outputs": [
    {
     "data": {
      "text/html": [
       "<table class=\"dataframe\">\n",
       "<caption>A data.frame: 6 × 3</caption>\n",
       "<thead>\n",
       "\t<tr><th></th><th scope=col>albumin_level</th><th scope=col>classification</th><th scope=col>appetite</th></tr>\n",
       "\t<tr><th></th><th scope=col>&lt;dbl&gt;</th><th scope=col>&lt;chr&gt;</th><th scope=col>&lt;fct&gt;</th></tr>\n",
       "</thead>\n",
       "<tbody>\n",
       "\t<tr><th scope=row>1</th><td>2</td><td>ckd</td><td>good</td></tr>\n",
       "\t<tr><th scope=row>2</th><td>5</td><td>ckd</td><td>good</td></tr>\n",
       "\t<tr><th scope=row>3</th><td>3</td><td>ckd</td><td>poor</td></tr>\n",
       "\t<tr><th scope=row>4</th><td>5</td><td>ckd</td><td>poor</td></tr>\n",
       "\t<tr><th scope=row>5</th><td>3</td><td>ckd</td><td>good</td></tr>\n",
       "\t<tr><th scope=row>6</th><td>4</td><td>ckd</td><td>good</td></tr>\n",
       "</tbody>\n",
       "</table>\n"
      ],
      "text/latex": [
       "A data.frame: 6 × 3\n",
       "\\begin{tabular}{r|lll}\n",
       "  & albumin\\_level & classification & appetite\\\\\n",
       "  & <dbl> & <chr> & <fct>\\\\\n",
       "\\hline\n",
       "\t1 & 2 & ckd & good\\\\\n",
       "\t2 & 5 & ckd & good\\\\\n",
       "\t3 & 3 & ckd & poor\\\\\n",
       "\t4 & 5 & ckd & poor\\\\\n",
       "\t5 & 3 & ckd & good\\\\\n",
       "\t6 & 4 & ckd & good\\\\\n",
       "\\end{tabular}\n"
      ],
      "text/markdown": [
       "\n",
       "A data.frame: 6 × 3\n",
       "\n",
       "| <!--/--> | albumin_level &lt;dbl&gt; | classification &lt;chr&gt; | appetite &lt;fct&gt; |\n",
       "|---|---|---|---|\n",
       "| 1 | 2 | ckd | good |\n",
       "| 2 | 5 | ckd | good |\n",
       "| 3 | 3 | ckd | poor |\n",
       "| 4 | 5 | ckd | poor |\n",
       "| 5 | 3 | ckd | good |\n",
       "| 6 | 4 | ckd | good |\n",
       "\n"
      ],
      "text/plain": [
       "  albumin_level classification appetite\n",
       "1 2             ckd            good    \n",
       "2 5             ckd            good    \n",
       "3 3             ckd            poor    \n",
       "4 5             ckd            poor    \n",
       "5 3             ckd            good    \n",
       "6 4             ckd            good    "
      ]
     },
     "metadata": {},
     "output_type": "display_data"
    }
   ],
   "source": [
    "#Question: do ckd patients have the same level of albumin as non-ckd patients?\n",
    "\n",
    "#Patients without ckd could have other diseases - maybe diseases which actually affects the liver\n",
    "#See if ckd has the same affect on albumin as other potential diseases\n",
    "#does not say if ckd patients stictly have ckd\n",
    "#An observation which pertains to this sample (maybe)\n",
    "\n",
    "\n",
    "#reading the data\n",
    "dataset <- read.csv(\"https://raw.githubusercontent.com/mish-salt/Group-14-stat-project/main/ckd.csv\") \n",
    "\n",
    "#wrangling data\n",
    "ckd_data <- dataset %>%\n",
    "    rename(albumin_level = al, classification = class, appetite = appet)%>% #renaming columns\n",
    "    select(albumin_level, classification, appetite)%>% #selecting relevant variables\n",
    "    mutate(albumin_level = as.numeric(albumin_level))%>%#change chr into dbl for albumin_level\n",
    "    mutate(appetite = as.factor(appetite)) #appetite may be another interesting variable to look at - even if not included in the final results\n",
    "    \n",
    "\n",
    "head(ckd_data)\n",
    "\n",
    "# plot <- x_bar %>%\n",
    "#     ggplot(aes(x = mean, y = classification))+\n",
    "#     geom_histogram()\n",
    "\n",
    "# plot\n",
    "\n",
    "\n",
    "#to do:\n",
    "#clean things up \n",
    "#select relevant data\n",
    "#Demonstrate sample size\n",
    "#Maybe look at appetite & albumin?\n",
    "#put in notes the assumptions of data (greatest benefit of doubt)\n",
    "\n",
    "#notes:\n",
    "#Albumin may be decreased by malnutrition\n",
    "#CKD may decrease appetite\n",
    "#further questions = cause and consequence between CKD and appetite, further cause and consequence between appetite\n",
    "#and albumin\n",
    "#since the data is found in patients - notckd could mean the patient has other diseases\n",
    "#The albumin level should be treated as ordinal data\n",
    "#original data unreadable - substituted data\n",
    "#\n",
    "\n",
    "#x.3 = albumin, x.4 = class"
   ]
  },
  {
   "cell_type": "code",
   "execution_count": 11,
   "id": "22fc6c8e-52ee-4278-a638-fd6da751c408",
   "metadata": {},
   "outputs": [
    {
     "data": {
      "text/html": [
       "<table class=\"dataframe\">\n",
       "<caption>A tibble: 2 × 2</caption>\n",
       "<thead>\n",
       "\t<tr><th scope=col>appetite</th><th scope=col>sum</th></tr>\n",
       "\t<tr><th scope=col>&lt;fct&gt;</th><th scope=col>&lt;dbl&gt;</th></tr>\n",
       "</thead>\n",
       "<tbody>\n",
       "\t<tr><td>good</td><td>500</td></tr>\n",
       "\t<tr><td>poor</td><td>204</td></tr>\n",
       "</tbody>\n",
       "</table>\n"
      ],
      "text/latex": [
       "A tibble: 2 × 2\n",
       "\\begin{tabular}{ll}\n",
       " appetite & sum\\\\\n",
       " <fct> & <dbl>\\\\\n",
       "\\hline\n",
       "\t good & 500\\\\\n",
       "\t poor & 204\\\\\n",
       "\\end{tabular}\n"
      ],
      "text/markdown": [
       "\n",
       "A tibble: 2 × 2\n",
       "\n",
       "| appetite &lt;fct&gt; | sum &lt;dbl&gt; |\n",
       "|---|---|\n",
       "| good | 500 |\n",
       "| poor | 204 |\n",
       "\n"
      ],
      "text/plain": [
       "  appetite sum\n",
       "1 good     500\n",
       "2 poor     204"
      ]
     },
     "metadata": {},
     "output_type": "display_data"
    }
   ],
   "source": [
    "#for the sake of interest - look at the sum of albumin level in respect to appetite\n",
    "#1 for presence of appetite, 0 for no appetite\n",
    "appetite <- ckd_data %>%\n",
    "    select(appetite, albumin_level)%>%\n",
    "    group_by(appetite)%>%\n",
    "    summarize(sum = sum(albumin_level))\n",
    "\n",
    "head(appetite)\n"
   ]
  },
  {
   "cell_type": "code",
   "execution_count": 12,
   "id": "468504ed-f79f-4168-98fd-e2bf03348af1",
   "metadata": {},
   "outputs": [
    {
     "data": {
      "image/png": "[encoded data removed]",
      "text/plain": [
       "plot without title"
      ]
     },
     "metadata": {
      "image/png": {
       "height": 420,
       "width": 420
      }
     },
     "output_type": "display_data"
    }
   ],
   "source": [
    "#plotting the sample distribution for albumin\n",
    "albumin_plot <- ckd_data %>%\n",
    "    ggplot(aes(x = albumin_level))+\n",
    "    geom_histogram(bins = 5)+\n",
    "    xlab(\"Albumin Level\")+\n",
    "    ggtitle(\"Sample Distribution of Albumin Levels\")\n",
    "\n",
    "albumin_plot"
   ]
  },
  {
   "cell_type": "code",
   "execution_count": 13,
   "id": "fa405804-1f0a-45cd-ac68-31d3ad9370cb",
   "metadata": {},
   "outputs": [
    {
     "data": {
      "text/html": [
       "<table class=\"dataframe\">\n",
       "<caption>A tibble: 2 × 2</caption>\n",
       "<thead>\n",
       "\t<tr><th scope=col>classification</th><th scope=col>mean</th></tr>\n",
       "\t<tr><th scope=col>&lt;chr&gt;</th><th scope=col>&lt;dbl&gt;</th></tr>\n",
       "</thead>\n",
       "<tbody>\n",
       "\t<tr><td>ckd   </td><td>2.723301</td></tr>\n",
       "\t<tr><td>notckd</td><td>1.000000</td></tr>\n",
       "</tbody>\n",
       "</table>\n"
      ],
      "text/latex": [
       "A tibble: 2 × 2\n",
       "\\begin{tabular}{ll}\n",
       " classification & mean\\\\\n",
       " <chr> & <dbl>\\\\\n",
       "\\hline\n",
       "\t ckd    & 2.723301\\\\\n",
       "\t notckd & 1.000000\\\\\n",
       "\\end{tabular}\n"
      ],
      "text/markdown": [
       "\n",
       "A tibble: 2 × 2\n",
       "\n",
       "| classification &lt;chr&gt; | mean &lt;dbl&gt; |\n",
       "|---|---|\n",
       "| ckd    | 2.723301 |\n",
       "| notckd | 1.000000 |\n",
       "\n"
      ],
      "text/plain": [
       "  classification mean    \n",
       "1 ckd            2.723301\n",
       "2 notckd         1.000000"
      ]
     },
     "metadata": {},
     "output_type": "display_data"
    }
   ],
   "source": [
    "#computing point estimates(mean)\n",
    "xbar <- ckd_data %>%\n",
    "    select(classification, albumin_level)%>%\n",
    "    group_by(classification)%>%\n",
    "    summarize(mean = mean(albumin_level))\n",
    "\n",
    "xbar"
   ]
  },
  {
   "cell_type": "code",
   "execution_count": 14,
   "id": "8d84f419-e81d-4720-bb50-6a476998ddb0",
   "metadata": {},
   "outputs": [
    {
     "data": {
      "text/html": [
       "1.72330097087379"
      ],
      "text/latex": [
       "1.72330097087379"
      ],
      "text/markdown": [
       "1.72330097087379"
      ],
      "text/plain": [
       "[1] 1.723301"
      ]
     },
     "metadata": {},
     "output_type": "display_data"
    }
   ],
   "source": [
    "#computing observed test statistic (difference in mean)\n",
    "diff <- xbar%>%\n",
    "    mutate(diff = mean[1] - mean[2])%>%\n",
    "    select(diff)%>%\n",
    "    head(1)%>%\n",
    "    pull()\n",
    "\n",
    "diff"
   ]
  },
  {
   "cell_type": "markdown",
   "id": "f37d0501-df04-4e70-8c0b-0fb80d6e0f62",
   "metadata": {},
   "source": [
    "**METHOD:PLAN**"
   ]
  },
  {
   "cell_type": "markdown",
   "id": "bc9843f0-ad5a-408d-a1ca-d3da20215e3e",
   "metadata": {},
   "source": [
    "**REFERENCES**"
   ]
  },
  {
   "cell_type": "markdown",
   "id": "fe725e73-863b-4c97-aca2-8c8b7ef4fc1e",
   "metadata": {},
   "source": [
    "ae"
   ]
  },
  {
   "cell_type": "markdown",
   "id": "0a184ea9-d807-41f9-9653-f02df968e13c",
   "metadata": {},
   "source": []
  }
 ],
 "metadata": {
  "kernelspec": {
   "display_name": "R",
   "language": "R",
   "name": "ir"
  },
  "language_info": {
   "codemirror_mode": "r",
   "file_extension": ".r",
   "mimetype": "text/x-r-source",
   "name": "R",
   "pygments_lexer": "r",
   "version": "4.1.3"
  }
 },
 "nbformat": 4,
 "nbformat_minor": 5
}
